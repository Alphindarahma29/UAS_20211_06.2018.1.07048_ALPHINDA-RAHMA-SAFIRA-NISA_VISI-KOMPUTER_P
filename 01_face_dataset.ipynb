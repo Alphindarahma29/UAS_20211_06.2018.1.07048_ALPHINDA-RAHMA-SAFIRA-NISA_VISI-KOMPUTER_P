{
 "cells": [
  {
   "cell_type": "code",
   "execution_count": 3,
   "metadata": {},
   "outputs": [],
   "source": [
    "import cv2\n",
    "import os"
   ]
  },
  {
   "cell_type": "code",
   "execution_count": 2,
   "metadata": {},
   "outputs": [
    {
     "name": "stdout",
     "output_type": "stream",
     "text": [
      "\n",
      " Masukkan user id dan tekan enter ==>  1\n",
      "\n",
      " [INFO] Pengambilan data wajah. Lihat ke kamera dan tunggu ...\n",
      "\n",
      " [INFO] Program telah Berhenti, Dataset telah Tersimpan!\n"
     ]
    }
   ],
   "source": [
    "cam = cv2.VideoCapture(0)\n",
    "cam.set(3, 640) # set video width\n",
    "cam.set(4, 480) # set video height\n",
    "\n",
    "face_detector = cv2.CascadeClassifier('haarcascade_frontalface_default.xml')\n",
    "\n",
    "face_id = input('\\n Masukkan user id dan tekan enter ==>  ')\n",
    "\n",
    "print(\"\\n [INFO] Pengambilan data wajah. Lihat ke kamera dan tunggu ...\")\n",
    "\n",
    "count = 0\n",
    "\n",
    "# Pengujian untuk beberapa proses dalam pengambilan dataset\n",
    "while(True):\n",
    "\n",
    "    \n",
    "    ret, img = cam.read()\n",
    "    #img = cv2.flip(img, -1)\n",
    "    \n",
    "    #menunjukkan intensitas warna\n",
    "    gray = cv2.cvtColor(img, cv2.COLOR_BGR2GRAY)\n",
    "    faces = face_detector.detectMultiScale(gray, 1.3, 5)\n",
    "\n",
    "    for (x,y,w,h) in faces:\n",
    "\n",
    "        cv2.rectangle(img, (x,y), (x+w,y+h), (255,0,0), 2)     \n",
    "        count += 1\n",
    "\n",
    "        # menyimpan capture gambar wajah dalam folder dataset\n",
    "        cv2.imwrite(\"dataset/User.\" + str(face_id) + '.' + str(count) + \".jpg\", gray[y:y+h,x:x+w])\n",
    "\n",
    "        cv2.imshow('image', img)\n",
    "\n",
    "    k = cv2.waitKey(100) & 0xff \n",
    "    if k == 27:\n",
    "        break\n",
    "    elif count >= 31: \n",
    "         break\n",
    "\n",
    "print(\"\\n [INFO] Program telah Berhenti, Dataset telah Tersimpan!\")\n",
    "cam.release()\n",
    "cv2.destroyAllWindows()"
   ]
  },
  {
   "cell_type": "code",
   "execution_count": null,
   "metadata": {},
   "outputs": [],
   "source": []
  },
  {
   "cell_type": "code",
   "execution_count": null,
   "metadata": {},
   "outputs": [],
   "source": []
  }
 ],
 "metadata": {
  "kernelspec": {
   "display_name": "Python 3",
   "language": "python",
   "name": "python3"
  },
  "language_info": {
   "codemirror_mode": {
    "name": "ipython",
    "version": 3
   },
   "file_extension": ".py",
   "mimetype": "text/x-python",
   "name": "python",
   "nbconvert_exporter": "python",
   "pygments_lexer": "ipython3",
   "version": "3.8.5"
  }
 },
 "nbformat": 4,
 "nbformat_minor": 4
}
